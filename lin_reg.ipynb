{
 "cells": [
  {
   "cell_type": "code",
   "execution_count": null,
   "metadata": {},
   "outputs": [],
   "source": [
    "import numpy as np\n",
    "import pandas as pd\n",
    "from sklearn import datasets\n",
    "boston = datasets.load_boston()\n",
    "data = boston.data\n",
    "data = pd.DataFrame(data=data, columns=boston.feature_names)\n",
    "data['Price'] = boston.target\n",
    "corr_ft = ['RM','PTRATIO','LSTAT']\n",
    "Xbf = data[corr_ft]\n",
    "y = data['Price']\n",
    "one = np.ones((Xbf.shape[0],1))\n",
    "X = np.concatenate((one, Xbf), axis = 1)"
   ]
  },
  {
   "cell_type": "code",
   "execution_count": 4,
   "metadata": {},
   "outputs": [],
   "source": [
    "\n",
    "class LinearRegression():\n",
    "    def __init__(self,X,y):\n",
    "        self.X = X\n",
    "        self.y = y\n",
    "\n",
    "    def cost_function(self,beta):\n",
    "        N = self.X.shape[0]\n",
    "        return 1/(2*N)*np.linalg.norm(X.dot(beta)-self.y)**2\n",
    "    def gradient(self,beta):\n",
    "        N = self.X.shape[0]\n",
    "        return 1/N*X.T.dot(X.dot(beta)-self.y)\n",
    "    def fit(self,iterations = 100,gamma = 0.1):\n",
    "        beta = np.random.randn(X.shape[1])\n",
    "        N = X.shape[0]\n",
    "         \n",
    "        for i in range(iterations):        \n",
    "            beta = beta - gamma*self.gradient(beta)\n",
    "            if i%100==0:\n",
    "                print(self.cost_function(beta))\n",
    "        return beta\n",
    "    def predict(self,X,beta):\n",
    "        return X.dot(beta)\n",
    "    def momentum_fit(self,tau = 0.01,gamma = 0.05,alpha = 0.05):\n",
    "        beta = np.random.rand(X.shape[1])\n",
    "        old_beta = np.random.rand(X.shape[1])\n",
    "        N = len(X)\n",
    "        while self.cost_function(beta) >= tau:\n",
    "            v_new = old_beta*alpha + self.gradient(beta)\n",
    "            old_beta = beta\n",
    "            beta = beta - v_new\n",
    "        return beta\n"
   ]
  },
  {
   "cell_type": "code",
   "execution_count": 5,
   "metadata": {},
   "outputs": [
    {
     "name": "stdout",
     "output_type": "stream",
     "text": [
      "3733513.8655919065\n",
      "[-1.96631043e+173 -1.21820525e+174 -3.68666106e+174 -2.76885881e+174]\n"
     ]
    }
   ],
   "source": [
    "k = LinearRegression(X,y)\n",
    "print(k.fit())\n"
   ]
  }
 ],
 "metadata": {
  "kernelspec": {
   "display_name": "Python 3.10.5 64-bit",
   "language": "python",
   "name": "python3"
  },
  "language_info": {
   "codemirror_mode": {
    "name": "ipython",
    "version": 3
   },
   "file_extension": ".py",
   "mimetype": "text/x-python",
   "name": "python",
   "nbconvert_exporter": "python",
   "pygments_lexer": "ipython3",
   "version": "3.10.5"
  },
  "orig_nbformat": 4,
  "vscode": {
   "interpreter": {
    "hash": "682500ecd35da165753406cb9a5b7a11d766438723cad81a60a58ef1c8c50a88"
   }
  }
 },
 "nbformat": 4,
 "nbformat_minor": 2
}
